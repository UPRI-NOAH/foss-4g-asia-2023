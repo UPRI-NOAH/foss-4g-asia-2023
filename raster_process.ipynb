{
 "cells": [
  {
   "cell_type": "markdown",
   "id": "f2c8c6b3",
   "metadata": {},
   "source": [
    "\n",
    "# Basic raster processing: Rasterio, Pillow\n",
    "\n",
    "## What is Rasterio?\n",
    "Rasterio is an open source library used for raster processing that can be used for reading and writing raster formats in Python.\n",
    "\n",
    "## Import rasterio library"
   ]
  },
  {
   "cell_type": "code",
   "execution_count": null,
   "id": "925eaf73",
   "metadata": {},
   "outputs": [],
   "source": [
    "import rasterio"
   ]
  },
  {
   "cell_type": "markdown",
   "id": "cbdbbb9a",
   "metadata": {},
   "source": [
    "\n",
    "## What is Pillow?\n",
    "Python Pillow is an open source library. It is a for of pillow an old library called PIL. It is used for image processing for Python.\n",
    "\n",
    "## Import pillow library"
   ]
  },
  {
   "cell_type": "code",
   "execution_count": null,
   "id": "e064b89e",
   "metadata": {},
   "outputs": [],
   "source": [
    "from PIL import Image\n",
    "from IPython.display import display\n",
    "\n",
    "im = Image.open(\"src/ph raster.PNG\")\n",
    "display(im)"
   ]
  },
  {
   "cell_type": "markdown",
   "id": "b5728fa9",
   "metadata": {},
   "source": [
    "\n",
    "### SHP for clipping"
   ]
  },
  {
   "cell_type": "code",
   "execution_count": null,
   "id": "2ce1374f",
   "metadata": {},
   "outputs": [],
   "source": [
    "import geopandas as gpd\n",
    "geo = gpd.read_file(\"src/ph-bb.shp\")\n",
    "geo.plot()"
   ]
  },
  {
   "cell_type": "markdown",
   "id": "8e2de02a",
   "metadata": {},
   "source": [
    "\n",
    "## Clipping vectors\n",
    "To clip a polygon to a raster, we will use geopandas to read geometries and clip regions."
   ]
  },
  {
   "cell_type": "code",
   "execution_count": null,
   "id": "8bd8adfb",
   "metadata": {},
   "outputs": [],
   "source": [
    "import geopandas as gpd\n",
    "import rasterio\n",
    "import rasterio.mask\n",
    "from PIL import Image\n",
    "from rasterio.plot import show\n",
    "geo = gpd.read_file(\"src/ph-bb.shp\")\n",
    "\n",
    "with rasterio.open(\"src/rainmap_gtif_day1.tif\") as src:\n",
    "  print(src.crs)\n",
    "  out_image, out_transform = rasterio.mask.mask(src, geo.geometry, filled = True)\n",
    "\n",
    "show(out_image)"
   ]
  },
  {
   "cell_type": "markdown",
   "id": "caad86f8",
   "metadata": {},
   "source": [
    "\n",
    "## What is geocube?\n",
    "geocube is a python library used to convert geopandas to rasterized xarray data.\n",
    "\n",
    "## Import geocube library"
   ]
  },
  {
   "cell_type": "code",
   "execution_count": null,
   "id": "43979773",
   "metadata": {},
   "outputs": [],
   "source": [
    "from geocube.api.core import make_geocube\n",
    "from geocube.rasterize import rasterize_points_griddata"
   ]
  },
  {
   "cell_type": "markdown",
   "id": "4a3ee804",
   "metadata": {},
   "source": [
    "\n",
    "### GeoJSON for interpolation"
   ]
  },
  {
   "cell_type": "code",
   "execution_count": null,
   "id": "1303ecde",
   "metadata": {},
   "outputs": [],
   "source": [
    "gdf = gpd.read_file(\"src/JunJulSept_total.shp\")\n",
    "gdf.plot()"
   ]
  },
  {
   "cell_type": "markdown",
   "id": "7ac694bc",
   "metadata": {},
   "source": [
    "\n",
    "## Interpolate points\n",
    "### Import geocube library\n",
    "first thing we do is import functools partial to fix the number of arguments/parameters of another function."
   ]
  },
  {
   "cell_type": "code",
   "execution_count": null,
   "id": "feb6da41",
   "metadata": {},
   "outputs": [],
   "source": [
    "import geopandas as gpd\n",
    "from functools import partial\n",
    "from geocube.api.core import make_geocube\n",
    "from geocube.rasterize import rasterize_points_griddata\n",
    "\n",
    "gdf = gpd.read_file(\"src/JunJulSept_total.shp\")\n",
    "\n",
    "geo_grid_cubic = make_geocube(\n",
    "    gdf,\n",
    "    measurements=[\"Jun-16\"],\n",
    "    resolution=(-0.1, 0.00001),\n",
    "    rasterize_function=partial(rasterize_points_griddata, method=\"cubic\"),\n",
    ")\n",
    "\n",
    "geo_grid_cubic[\"Jun-16\"].plot.imshow()"
   ]
  }
 ],
 "metadata": {},
 "nbformat": 4,
 "nbformat_minor": 5
}
