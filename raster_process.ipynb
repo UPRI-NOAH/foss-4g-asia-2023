{
 "cells": [
  {
   "cell_type": "markdown",
   "id": "e3758a16",
   "metadata": {},
   "source": [
    "\n",
    "# Basic raster processing: Rasterio, Pillow\n",
    "\n",
    "## What is Rasterio?\n",
    "Rasterio is an open source library used for raster processing that can be used for reading and writing raster formats in Python.\n",
    "\n",
    "## Import rasterio library"
   ]
  },
  {
   "cell_type": "code",
   "execution_count": null,
   "id": "e3880c90",
   "metadata": {},
   "outputs": [],
   "source": [
    "import rasterio"
   ]
  },
  {
   "cell_type": "markdown",
   "id": "c636856c",
   "metadata": {},
   "source": [
    "\n",
    "## What is Pillow?\n",
    "Python Pillow is an open source library. It is a for of pillow an old library called PIL. It is used for image processing for Python.\n",
    "\n",
    "## Import pillow library"
   ]
  },
  {
   "cell_type": "code",
   "execution_count": null,
   "id": "f4d50b7f",
   "metadata": {},
   "outputs": [],
   "source": [
    "from PIL import Image"
   ]
  },
  {
   "cell_type": "markdown",
   "id": "0b5cac2f",
   "metadata": {},
   "source": [
    "\n",
    "## Clipping vectors\n",
    "To clip a polygon to a raster, we will use geopandas to read geometries and clip regions."
   ]
  },
  {
   "cell_type": "code",
   "execution_count": null,
   "id": "83bfe6e7",
   "metadata": {},
   "outputs": [],
   "source": [
    "import geopandas as gpd\n",
    "from PIL import Image\n",
    "from rasterio.plot import show\n",
    "geo = gpd.read_file(\"src/ph-bb.shp\")\n",
    "geo.plot()\n",
    "\n",
    "im = Image.open(\"src/ph raster.PNG\")\n",
    "im.show()\n",
    "with rasterio.open(\"src/rainmap_gtif_day1.tif\") as src:\n",
    "  print(src.crs)\n",
    "  out_image, out_transform = rasterio.mask.mask(src, geo.geometry, filled = True)\n",
    "\n",
    "show(out_image)"
   ]
  },
  {
   "cell_type": "markdown",
   "id": "a385ab3e",
   "metadata": {},
   "source": [
    "\n",
    "## What is geocube?\n",
    "geocube is a python library used to convert geopandas to rasterized xarray data.\n",
    "\n",
    "## Import geocube library"
   ]
  },
  {
   "cell_type": "code",
   "execution_count": null,
   "id": "d3babf9a",
   "metadata": {},
   "outputs": [],
   "source": [
    "from geocube.api.core import make_geocube\n",
    "from geocube.rasterize import rasterize_points_griddata"
   ]
  },
  {
   "cell_type": "markdown",
   "id": "fd28a198",
   "metadata": {},
   "source": [
    "\n",
    "## Import geocube library\n",
    "## Interpolate points\n",
    "first thing we do is import functools partial to fix the number of arguments/parameters of another function."
   ]
  },
  {
   "cell_type": "code",
   "execution_count": null,
   "id": "b9aa663e",
   "metadata": {},
   "outputs": [],
   "source": [
    "import geopandas as gpd\n",
    "from functools import partial\n",
    "from geocube.api.core import make_geocube\n",
    "from geocube.rasterize import rasterize_points_griddata\n",
    "\n",
    "gdf = gpd.read_file(\"src/qc_facilities.geojson\")\n",
    "gdf[\"exists\"] = 1\n",
    "geo_grid_cubic = make_geocube(\n",
    "    gdf,\n",
    "    measurements=[\"exists\"],\n",
    "    resolution=(-0.00001, 0.001),\n",
    "    rasterize_function=partial(rasterize_points_griddata, method=\"cubic\"),\n",
    ")\n",
    "\n",
    "geo_grid_cubic.exists.plot.imshow()"
   ]
  }
 ],
 "metadata": {},
 "nbformat": 4,
 "nbformat_minor": 5
}
