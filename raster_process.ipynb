{
 "cells": [
  {
   "cell_type": "markdown",
   "id": "089c5534",
   "metadata": {},
   "source": [
    "\n",
    "# Basic raster processing: Rasterio, Pillow\n",
    "\n",
    "## What is Rasterio?\n",
    "Rasterio is an open source library used for raster processing that can be used for reading and writing raster formats in Python.\n",
    "\n",
    "## Import rasterio library"
   ]
  },
  {
   "cell_type": "code",
   "execution_count": null,
   "id": "2df8e5cb",
   "metadata": {},
   "outputs": [],
   "source": [
    "import rasterio"
   ]
  },
  {
   "cell_type": "markdown",
   "id": "7bceba8f",
   "metadata": {},
   "source": [
    "\n",
    "## What is Pillow?\n",
    "Python Pillow is an open source library. It is a for of pillow an old library called PIL. It is used for image processing for Python.\n",
    "\n",
    "## Import pillow library"
   ]
  },
  {
   "cell_type": "code",
   "execution_count": null,
   "id": "c8aee000",
   "metadata": {},
   "outputs": [],
   "source": [
    "from PIL import Image"
   ]
  },
  {
   "cell_type": "markdown",
   "id": "9308b690",
   "metadata": {},
   "source": [
    "\n",
    "## Clipping vectors\n",
    "To clip a polygon to a raster, we will use geopandas to read geometries and clip regions."
   ]
  },
  {
   "cell_type": "code",
   "execution_count": null,
   "id": "8c516afa",
   "metadata": {},
   "outputs": [],
   "source": [
    "import geopandas as gpd\n",
    "from rasterio.plot import show\n",
    "geo = gpd.read_file(\"src/src/ph-bb.shp\")\n",
    "geo.plot()\n",
    "\n",
    "im = Image.open(\"src/ph raster.PNG\")\n",
    "im.show()\n",
    "with rasterio.open(\"src/rainmap_gtif_day1.tif\") as src:\n",
    "  print(src.crs)\n",
    "  out_image, out_transform = rasterio.mask.mask(src, geo.geometry, filled = True)\n",
    "\n",
    "show(out_image)"
   ]
  },
  {
   "cell_type": "markdown",
   "id": "5b391b01",
   "metadata": {},
   "source": [
    "\n",
    "## What is geocube?\n",
    "geocube is a python library used to convert geopandas to rasterized xarray data.\n",
    "\n",
    "## Import geocube library"
   ]
  },
  {
   "cell_type": "code",
   "execution_count": null,
   "id": "9fe02a53",
   "metadata": {},
   "outputs": [],
   "source": [
    "from geocube.api.core import make_geocube\n",
    "from geocube.rasterize import rasterize_points_griddata"
   ]
  },
  {
   "cell_type": "markdown",
   "id": "99052694",
   "metadata": {},
   "source": [
    "\n",
    "## Interpolate points\n",
    "first thing we do is import functools partial to fix the number of arguments/parameters of another function."
   ]
  },
  {
   "cell_type": "code",
   "execution_count": null,
   "id": "4853214f",
   "metadata": {},
   "outputs": [],
   "source": [
    "from functools import partial\n",
    "\n",
    "gdf = gpd.read_file(\"src/JunJulSept_total.shp\")\n",
    "\n",
    "geo_grid_cubic = make_geocube(\n",
    "    gdf,\n",
    "    measurements=[\"Jun-16\"],\n",
    "    resolution=(-0.00001, 0.001),\n",
    "    rasterize_function=partial(rasterize_points_griddata, method=\"cubic\"),\n",
    ")\n",
    "\n",
    "geo_grid_cubic.mes.plot.imshow()"
   ]
  }
 ],
 "metadata": {},
 "nbformat": 4,
 "nbformat_minor": 5
}
