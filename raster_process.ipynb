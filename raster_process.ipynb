{
 "cells": [
  {
   "cell_type": "markdown",
   "id": "274a07f6",
   "metadata": {},
   "source": [
    "\n",
    "# Basic raster processing: Rasterio, Pillow\n",
    "\n",
    "## What is Rasterio?\n",
    "Rasterio is an open source library used for raster processing that can be used for reading and writing raster formats in Python.\n",
    "\n",
    "## Import rasterio library"
   ]
  },
  {
   "cell_type": "code",
   "execution_count": null,
   "id": "f74be407",
   "metadata": {},
   "outputs": [],
   "source": [
    "import rasterio"
   ]
  },
  {
   "cell_type": "markdown",
   "id": "9fd82c28",
   "metadata": {},
   "source": [
    "\n",
    "## What is Pillow?\n",
    "Python Pillow is an open source library. It is a for of pillow an old library called PIL. It is used for image processing for Python.\n",
    "\n",
    "## Import pillow library"
   ]
  },
  {
   "cell_type": "code",
   "execution_count": null,
   "id": "5931ea3f",
   "metadata": {},
   "outputs": [],
   "source": [
    "from PIL import Image\n",
    "\n",
    "im = Image.open(\"src/ph raster.PNG\")\n",
    "im.show()"
   ]
  },
  {
   "cell_type": "markdown",
   "id": "7948add7",
   "metadata": {},
   "source": [
    "\n",
    "### SHP for clipping"
   ]
  },
  {
   "cell_type": "code",
   "execution_count": null,
   "id": "df3c1b13",
   "metadata": {},
   "outputs": [],
   "source": [
    "import geopandas as gpd\n",
    "geo = gpd.read_file(\"src/ph-bb.shp\")\n",
    "geo.plot()"
   ]
  },
  {
   "cell_type": "markdown",
   "id": "1bec71b2",
   "metadata": {},
   "source": [
    "\n",
    "## Clipping vectors\n",
    "To clip a polygon to a raster, we will use geopandas to read geometries and clip regions."
   ]
  },
  {
   "cell_type": "code",
   "execution_count": null,
   "id": "4d3b3349",
   "metadata": {},
   "outputs": [],
   "source": [
    "import geopandas as gpd\n",
    "import rasterio\n",
    "import rasterio.mask\n",
    "from PIL import Image\n",
    "from rasterio.plot import show\n",
    "geo = gpd.read_file(\"src/ph-bb.shp\")\n",
    "\n",
    "with rasterio.open(\"src/rainmap_gtif_day1.tif\") as src:\n",
    "  print(src.crs)\n",
    "  out_image, out_transform = rasterio.mask.mask(src, geo.geometry, filled = True)\n",
    "\n",
    "show(out_image)"
   ]
  },
  {
   "cell_type": "markdown",
   "id": "1ea2cd66",
   "metadata": {},
   "source": [
    "\n",
    "## What is geocube?\n",
    "geocube is a python library used to convert geopandas to rasterized xarray data.\n",
    "\n",
    "## Import geocube library"
   ]
  },
  {
   "cell_type": "code",
   "execution_count": null,
   "id": "da0de794",
   "metadata": {},
   "outputs": [],
   "source": [
    "from geocube.api.core import make_geocube\n",
    "from geocube.rasterize import rasterize_points_griddata"
   ]
  },
  {
   "cell_type": "markdown",
   "id": "98ee36bd",
   "metadata": {},
   "source": [
    "\n",
    "### GeoJSON for interpolation"
   ]
  },
  {
   "cell_type": "code",
   "execution_count": null,
   "id": "e2506936",
   "metadata": {},
   "outputs": [],
   "source": [
    "gdf = gpd.read_file(\"src/qc_facilities.geojson\")\n",
    "gdf.plot()"
   ]
  },
  {
   "cell_type": "markdown",
   "id": "a7028478",
   "metadata": {},
   "source": [
    "\n",
    "## Interpolate points\n",
    "### Import geocube library\n",
    "first thing we do is import functools partial to fix the number of arguments/parameters of another function."
   ]
  },
  {
   "cell_type": "code",
   "execution_count": null,
   "id": "66e82f08",
   "metadata": {},
   "outputs": [],
   "source": [
    "import geopandas as gpd\n",
    "from functools import partial\n",
    "from geocube.api.core import make_geocube\n",
    "from geocube.rasterize import rasterize_points_griddata\n",
    "\n",
    "gdf = gpd.read_file(\"src/qc_facilities.geojson\")\n",
    "\n",
    "geo_grid_cubic = make_geocube(\n",
    "    gdf,\n",
    "    measurements=[\"Bed Capaci\"],\n",
    "    resolution=(-0.1, 0.00001),\n",
    "    rasterize_function=partial(rasterize_points_griddata, method=\"cubic\"),\n",
    ")\n",
    "\n",
    "geo_grid_cubic[\"Bed Capaci\"].plot.imshow()"
   ]
  }
 ],
 "metadata": {},
 "nbformat": 4,
 "nbformat_minor": 5
}
