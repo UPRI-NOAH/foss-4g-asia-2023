{
 "cells": [
  {
   "cell_type": "markdown",
   "id": "374725f4",
   "metadata": {},
   "source": [
    "\n",
    "# What is Pandas?\n",
    "Pandas is a python library that can be used to analyze and manipulate data.\n",
    "\n",
    "Extensive support libraries (NumPy for numerical calculations, Pandas for data analytics, etc.)\n",
    "## Import pandas library"
   ]
  },
  {
   "cell_type": "code",
   "execution_count": 1,
   "id": "b63bf18f",
   "metadata": {},
   "outputs": [],
   "source": [
    "import pandas as pd"
   ]
  },
  {
   "cell_type": "markdown",
   "id": "1892a3ba",
   "metadata": {},
   "source": [
    "## Series\n",
    "A one-dimentional array capable of holding any data type. It is like a column in a database table"
   ]
  },
  {
   "cell_type": "code",
   "execution_count": 2,
   "id": "5b2df676",
   "metadata": {},
   "outputs": [
    {
     "data": {
      "text/plain": [
       "0      Seoul\n",
       "1    Incheon\n",
       "2      Busan\n",
       "dtype: object"
      ]
     },
     "execution_count": 2,
     "metadata": {},
     "output_type": "execute_result"
    }
   ],
   "source": [
    "pd.Series(['Seoul', 'Incheon', 'Busan'])"
   ]
  },
  {
   "cell_type": "markdown",
   "id": "5e50d35f",
   "metadata": {},
   "source": [
    "## DataFrame\n",
    "A two-dimentional data structure with data and label or rows and columns."
   ]
  },
  {
   "cell_type": "code",
   "execution_count": 3,
   "id": "0725fcbd",
   "metadata": {},
   "outputs": [],
   "source": [
    "cities = pd.Series(['Seoul', 'Incheon', 'Busan'])\n",
    "population = pd.Series([9988000, 2930000, 3429000])\n",
    "\n",
    "k_data = pd.DataFrame({ 'City': cities, 'Population': population })"
   ]
  },
  {
   "cell_type": "markdown",
   "id": "35d9035b",
   "metadata": {},
   "source": [
    "### Accessing DataFrame data\n",
    "Similar to dictionaries, you can access data by adding key."
   ]
  },
  {
   "cell_type": "code",
   "execution_count": 4,
   "id": "854718f0",
   "metadata": {},
   "outputs": [
    {
     "name": "stdout",
     "output_type": "stream",
     "text": [
      "Get all data with City key\n",
      "0      Seoul\n",
      "1    Incheon\n",
      "2      Busan\n",
      "Name: City, dtype: object\n",
      "Get data from City key with index of 1\n",
      "Incheon\n"
     ]
    }
   ],
   "source": [
    "print('Get all data with City key')\n",
    "print(k_data[\"City\"])\n",
    "print('Get data from City key with index of 1')\n",
    "print(k_data[\"City\"][1])"
   ]
  },
  {
   "cell_type": "markdown",
   "id": "c43f20d9",
   "metadata": {},
   "source": [
    "## Read CSV files\n",
    "CSV also known as comma separated files. It is file that has tabular tabular format"
   ]
  },
  {
   "cell_type": "code",
   "execution_count": 5,
   "id": "c7995002",
   "metadata": {},
   "outputs": [
    {
     "name": "stdout",
     "output_type": "stream",
     "text": [
      "        city      lat       lng      country iso2 admin_name  capital  \\\n",
      "0    Bucheon  37.5000  126.7833  South Korea   KR   Gyeonggi    minor   \n",
      "1      Busan  35.1800  129.0750  South Korea   KR      Busan    admin   \n",
      "2   Changwon  35.2708  128.6631  South Korea   KR  Gyeongnam    admin   \n",
      "3      Daegu  35.8717  128.6017  South Korea   KR      Daegu    admin   \n",
      "4    Daejeon  36.3510  127.3850  South Korea   KR    Daejeon    admin   \n",
      "5    Dongnae  35.2016  129.0848  South Korea   KR      Busan    minor   \n",
      "6     Goyang  37.6500  126.8000  South Korea   KR   Gyeonggi    minor   \n",
      "7    Gwangju  35.1653  126.8486  South Korea   KR    Gwangju    admin   \n",
      "8    Incheon  37.4833  126.6333  South Korea   KR    Incheon    admin   \n",
      "9      Seoul  37.5600  126.9900  South Korea   KR      Seoul  primary   \n",
      "10     Suwon  37.2667  127.0167  South Korea   KR   Gyeonggi    admin   \n",
      "11     Ulsan  35.5500  129.3167  South Korea   KR      Ulsan    admin   \n",
      "\n",
      "    population  population_proper  \n",
      "0     867678.0           792561.0  \n",
      "1    3453198.0          3453198.0  \n",
      "2    1046054.0          1046054.0  \n",
      "3    2461002.0          2444412.0  \n",
      "4    1475221.0          1475221.0  \n",
      "5          NaN                NaN  \n",
      "6    1061929.0          1061929.0  \n",
      "7    1490092.0          1490092.0  \n",
      "8    2936117.0          2936117.0  \n",
      "9   23016000.0         10013781.0  \n",
      "10   1234300.0          1234300.0  \n",
      "11   1166033.0          1150116.0  \n"
     ]
    }
   ],
   "source": [
    "df = pd.read_csv('src/sk_data.csv')\n",
    "print(df)"
   ]
  },
  {
   "cell_type": "markdown",
   "id": "7844844e",
   "metadata": {},
   "source": [
    "### Renaming columns\n",
    "To rename a column, pandas library uses rename() function. We use inplace=True to apply changes to the DataFrame."
   ]
  },
  {
   "cell_type": "code",
   "execution_count": 6,
   "id": "13154f56",
   "metadata": {},
   "outputs": [
    {
     "name": "stdout",
     "output_type": "stream",
     "text": [
      "After modifying city column:  Index(['city_list', 'lat', 'lng', 'country', 'iso2', 'admin_name', 'capital',\n",
      "       'population', 'population_proper'],\n",
      "      dtype='object')\n"
     ]
    }
   ],
   "source": [
    "df.rename(columns = {'city':'city_list'}, inplace = True)\n",
    "\n",
    "print(\"After modifying city column: \", df.columns)"
   ]
  },
  {
   "cell_type": "markdown",
   "id": "aaba6b25",
   "metadata": {},
   "source": [
    "### Filter columns\n",
    "Filtering is used for finding a specific value the user provided. There are multiple ways to filter. First is filter()"
   ]
  },
  {
   "cell_type": "code",
   "execution_count": 7,
   "id": "f9bce1f2",
   "metadata": {},
   "outputs": [
    {
     "name": "stdout",
     "output_type": "stream",
     "text": [
      "   city_list  population\n",
      "0    Bucheon    867678.0\n",
      "1      Busan   3453198.0\n",
      "2   Changwon   1046054.0\n",
      "3      Daegu   2461002.0\n",
      "4    Daejeon   1475221.0\n",
      "5    Dongnae         NaN\n",
      "6     Goyang   1061929.0\n",
      "7    Gwangju   1490092.0\n",
      "8    Incheon   2936117.0\n",
      "9      Seoul  23016000.0\n",
      "10     Suwon   1234300.0\n",
      "11     Ulsan   1166033.0\n"
     ]
    }
   ],
   "source": [
    "city_pop = df.filter(items=['city_list', 'population'])\n",
    "print(city_pop)"
   ]
  },
  {
   "cell_type": "markdown",
   "id": "9ec423f8",
   "metadata": {},
   "source": [
    "### Filter by column value"
   ]
  },
  {
   "cell_type": "code",
   "execution_count": 8,
   "id": "5297b9fd",
   "metadata": {},
   "outputs": [
    {
     "name": "stdout",
     "output_type": "stream",
     "text": [
      "  city_list   lat       lng      country iso2 admin_name capital  population  \\\n",
      "0   Bucheon  37.5  126.7833  South Korea   KR   Gyeonggi   minor    867678.0   \n",
      "\n",
      "   population_proper  \n",
      "0           792561.0  \n"
     ]
    }
   ],
   "source": [
    "pop = df.loc[df['population'] == 867678.0]\n",
    "print(pop)"
   ]
  },
  {
   "cell_type": "markdown",
   "id": "be45461e",
   "metadata": {},
   "source": [
    "### Filter with logical conditions"
   ]
  },
  {
   "cell_type": "code",
   "execution_count": 9,
   "id": "0efa49da",
   "metadata": {},
   "outputs": [
    {
     "name": "stdout",
     "output_type": "stream",
     "text": [
      "  city_list    lat     lng      country iso2 admin_name  capital  population  \\\n",
      "9     Seoul  37.56  126.99  South Korea   KR      Seoul  primary  23016000.0   \n",
      "\n",
      "   population_proper  \n",
      "9         10013781.0  \n"
     ]
    }
   ],
   "source": [
    "pop_higher = df.loc[df['population'] > 3453198.0]\n",
    "print(pop_higher)"
   ]
  },
  {
   "cell_type": "markdown",
   "id": "55cac950",
   "metadata": {},
   "source": [
    "### Filter by missing values"
   ]
  },
  {
   "cell_type": "code",
   "execution_count": 10,
   "id": "363cf270",
   "metadata": {},
   "outputs": [
    {
     "name": "stdout",
     "output_type": "stream",
     "text": [
      "   city_list      lat       lng      country iso2 admin_name  capital  \\\n",
      "0    Bucheon  37.5000  126.7833  South Korea   KR   Gyeonggi    minor   \n",
      "1      Busan  35.1800  129.0750  South Korea   KR      Busan    admin   \n",
      "2   Changwon  35.2708  128.6631  South Korea   KR  Gyeongnam    admin   \n",
      "3      Daegu  35.8717  128.6017  South Korea   KR      Daegu    admin   \n",
      "4    Daejeon  36.3510  127.3850  South Korea   KR    Daejeon    admin   \n",
      "6     Goyang  37.6500  126.8000  South Korea   KR   Gyeonggi    minor   \n",
      "7    Gwangju  35.1653  126.8486  South Korea   KR    Gwangju    admin   \n",
      "8    Incheon  37.4833  126.6333  South Korea   KR    Incheon    admin   \n",
      "9      Seoul  37.5600  126.9900  South Korea   KR      Seoul  primary   \n",
      "10     Suwon  37.2667  127.0167  South Korea   KR   Gyeonggi    admin   \n",
      "11     Ulsan  35.5500  129.3167  South Korea   KR      Ulsan    admin   \n",
      "\n",
      "    population  population_proper  \n",
      "0     867678.0           792561.0  \n",
      "1    3453198.0          3453198.0  \n",
      "2    1046054.0          1046054.0  \n",
      "3    2461002.0          2444412.0  \n",
      "4    1475221.0          1475221.0  \n",
      "6    1061929.0          1061929.0  \n",
      "7    1490092.0          1490092.0  \n",
      "8    2936117.0          2936117.0  \n",
      "9   23016000.0         10013781.0  \n",
      "10   1234300.0          1234300.0  \n",
      "11   1166033.0          1150116.0  \n"
     ]
    }
   ],
   "source": [
    "not_null = df[df['population'].notnull()]\n",
    "print(not_null)"
   ]
  },
  {
   "cell_type": "markdown",
   "id": "9496811a",
   "metadata": {},
   "source": [
    "### Operators in DataFrame"
   ]
  },
  {
   "cell_type": "code",
   "execution_count": 11,
   "id": "d20c8f59",
   "metadata": {},
   "outputs": [
    {
     "name": "stdout",
     "output_type": "stream",
     "text": [
      "   city_list      lat       lng      country iso2 admin_name  capital  \\\n",
      "0    Bucheon  37.5000  126.7833  South Korea   KR   Gyeonggi    minor   \n",
      "1      Busan  35.1800  129.0750  South Korea   KR      Busan    admin   \n",
      "2   Changwon  35.2708  128.6631  South Korea   KR  Gyeongnam    admin   \n",
      "3      Daegu  35.8717  128.6017  South Korea   KR      Daegu    admin   \n",
      "4    Daejeon  36.3510  127.3850  South Korea   KR    Daejeon    admin   \n",
      "5    Dongnae  35.2016  129.0848  South Korea   KR      Busan    minor   \n",
      "6     Goyang  37.6500  126.8000  South Korea   KR   Gyeonggi    minor   \n",
      "7    Gwangju  35.1653  126.8486  South Korea   KR    Gwangju    admin   \n",
      "8    Incheon  37.4833  126.6333  South Korea   KR    Incheon    admin   \n",
      "9      Seoul  37.5600  126.9900  South Korea   KR      Seoul  primary   \n",
      "10     Suwon  37.2667  127.0167  South Korea   KR   Gyeonggi    admin   \n",
      "11     Ulsan  35.5500  129.3167  South Korea   KR      Ulsan    admin   \n",
      "\n",
      "    population  population_proper  population_subtract  \n",
      "0     867678.0           792561.0              75117.0  \n",
      "1    3453198.0          3453198.0                  0.0  \n",
      "2    1046054.0          1046054.0                  0.0  \n",
      "3    2461002.0          2444412.0              16590.0  \n",
      "4    1475221.0          1475221.0                  0.0  \n",
      "5          NaN                NaN                  NaN  \n",
      "6    1061929.0          1061929.0                  0.0  \n",
      "7    1490092.0          1490092.0                  0.0  \n",
      "8    2936117.0          2936117.0                  0.0  \n",
      "9   23016000.0         10013781.0           13002219.0  \n",
      "10   1234300.0          1234300.0                  0.0  \n",
      "11   1166033.0          1150116.0              15917.0  \n"
     ]
    }
   ],
   "source": [
    "df['population_subtract'] = df['population'] - df['population_proper']\n",
    "print(df)"
   ]
  },
  {
   "cell_type": "markdown",
   "id": "2a1ef626",
   "metadata": {},
   "source": [
    "### Dropping column in DataFrame\n",
    "drop() function is used to delete columns in a DataFrame"
   ]
  },
  {
   "cell_type": "code",
   "execution_count": 12,
   "id": "6b370d60",
   "metadata": {},
   "outputs": [
    {
     "name": "stdout",
     "output_type": "stream",
     "text": [
      "   city_list      lat       lng      country iso2 admin_name  capital  \\\n",
      "0    Bucheon  37.5000  126.7833  South Korea   KR   Gyeonggi    minor   \n",
      "1      Busan  35.1800  129.0750  South Korea   KR      Busan    admin   \n",
      "2   Changwon  35.2708  128.6631  South Korea   KR  Gyeongnam    admin   \n",
      "3      Daegu  35.8717  128.6017  South Korea   KR      Daegu    admin   \n",
      "4    Daejeon  36.3510  127.3850  South Korea   KR    Daejeon    admin   \n",
      "5    Dongnae  35.2016  129.0848  South Korea   KR      Busan    minor   \n",
      "6     Goyang  37.6500  126.8000  South Korea   KR   Gyeonggi    minor   \n",
      "7    Gwangju  35.1653  126.8486  South Korea   KR    Gwangju    admin   \n",
      "8    Incheon  37.4833  126.6333  South Korea   KR    Incheon    admin   \n",
      "9      Seoul  37.5600  126.9900  South Korea   KR      Seoul  primary   \n",
      "10     Suwon  37.2667  127.0167  South Korea   KR   Gyeonggi    admin   \n",
      "11     Ulsan  35.5500  129.3167  South Korea   KR      Ulsan    admin   \n",
      "\n",
      "    population  population_subtract  \n",
      "0     867678.0              75117.0  \n",
      "1    3453198.0                  0.0  \n",
      "2    1046054.0                  0.0  \n",
      "3    2461002.0              16590.0  \n",
      "4    1475221.0                  0.0  \n",
      "5          NaN                  NaN  \n",
      "6    1061929.0                  0.0  \n",
      "7    1490092.0                  0.0  \n",
      "8    2936117.0                  0.0  \n",
      "9   23016000.0           13002219.0  \n",
      "10   1234300.0                  0.0  \n",
      "11   1166033.0              15917.0  \n"
     ]
    }
   ],
   "source": [
    "dropped = df.drop(['population_proper'], axis=1)\n",
    "print(dropped)"
   ]
  },
  {
   "cell_type": "markdown",
   "id": "b3d87f88",
   "metadata": {},
   "source": [
    "### Concatenate values in DataFrame\n",
    "concat() function is used in pandas to concatenate or link data together"
   ]
  },
  {
   "cell_type": "code",
   "execution_count": 13,
   "id": "7f425a5a",
   "metadata": {},
   "outputs": [
    {
     "name": "stdout",
     "output_type": "stream",
     "text": [
      "   Name  Age\n",
      "0  John   25\n",
      "1   Joe   23\n",
      "2  Mary   20\n",
      "3  Anna   21\n"
     ]
    }
   ],
   "source": [
    "df1 = pd.DataFrame([['John', 25], ['Joe', 23]],\n",
    "                   columns=['Name', 'Age'])\n",
    "df2 = pd.DataFrame([['Mary', 20], ['Anna', 21]],\n",
    "                   columns=['Name', 'Age'])\n",
    "\n",
    "concat_val = pd.concat([df1, df2], ignore_index=True)\n",
    "print(concat_val)"
   ]
  },
  {
   "cell_type": "markdown",
   "id": "3fbadc5e",
   "metadata": {},
   "source": [
    "### Merge values in DataFrame\n",
    "merge() function is used in pandas to combine common columns in a DataFrame.\n",
    "* inner\n",
    "* right\n",
    "* outer\n",
    "* inner"
   ]
  },
  {
   "cell_type": "code",
   "execution_count": 14,
   "id": "b43ee9b7",
   "metadata": {},
   "outputs": [
    {
     "name": "stdout",
     "output_type": "stream",
     "text": [
      "inner\n",
      "   Name  Age_x  Age_y\n",
      "0  John     25     20\n",
      "left\n",
      "   Name  Age_x  Age_y\n",
      "0  John     25   20.0\n",
      "1   Joe     23    NaN\n",
      "right\n",
      "   Name  Age_x  Age_y\n",
      "0  John   25.0     20\n",
      "1  Anna    NaN     21\n",
      "outer\n",
      "   Name  Age_x  Age_y\n",
      "0  John   25.0   20.0\n",
      "1   Joe   23.0    NaN\n",
      "2  Anna    NaN   21.0\n"
     ]
    }
   ],
   "source": [
    "df_1 = pd.DataFrame([['John', 25], ['Joe', 23]],\n",
    "                   columns=['Name', 'Age'])\n",
    "df_2 = pd.DataFrame([['John', 20], ['Anna', 21]],\n",
    "                   columns=['Name', 'Age'])\n",
    "\n",
    "inner = df_1.merge(df_2, on='Name', how='inner')\n",
    "print('inner')\n",
    "print(inner)\n",
    "left = df_1.merge(df_2, on='Name', how='left')\n",
    "print('left')\n",
    "print(left)\n",
    "right = df_1.merge(df_2, on='Name', how='right')\n",
    "print('right')\n",
    "print(right)\n",
    "outer = df_1.merge(df_2, on='Name', how='outer')\n",
    "print('outer')\n",
    "print(outer)"
   ]
  },
  {
   "cell_type": "markdown",
   "id": "76415d4b",
   "metadata": {},
   "source": [
    "### Join values in DataFrame\n",
    "join() function is used in pandas to insert columns from another DataFrame."
   ]
  },
  {
   "cell_type": "code",
   "execution_count": 15,
   "id": "1a7ed40f",
   "metadata": {},
   "outputs": [
    {
     "name": "stdout",
     "output_type": "stream",
     "text": [
      "outer\n",
      "  Name_left  Age_left Name_right  Age_right\n",
      "0      John        25       John         20\n",
      "1       Joe        23       Anna         21\n"
     ]
    }
   ],
   "source": [
    "outer_join = df_1.join(df_2, lsuffix=\"_left\", rsuffix=\"_right\", how='outer')\n",
    "print('outer')\n",
    "print(outer_join)\n"
   ]
  }
 ],
 "metadata": {
  "language_info": {
   "codemirror_mode": {
    "name": "ipython",
    "version": 3
   },
   "file_extension": ".py",
   "mimetype": "text/x-python",
   "name": "python",
   "nbconvert_exporter": "python",
   "pygments_lexer": "ipython3",
   "version": "3.7.3"
  }
 },
 "nbformat": 4,
 "nbformat_minor": 5
}
