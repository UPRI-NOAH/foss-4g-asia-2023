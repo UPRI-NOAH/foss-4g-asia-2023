{
 "cells": [
  {
   "cell_type": "markdown",
   "id": "f4b60abe",
   "metadata": {},
   "source": [
    "\n",
    "# Basic vector processing: GeoPandas\n",
    "\n",
    "## What is GeoPandas?\n",
    "GeoPandas is an open source library used for geospatial data. It extends datatypes used by pandas\n",
    "library for geometric and spatial data.\n",
    "\n",
    "## Import geopandas library"
   ]
  },
  {
   "cell_type": "code",
   "execution_count": null,
   "id": "36035957",
   "metadata": {},
   "outputs": [],
   "source": [
    "import geopandas as gpd"
   ]
  },
  {
   "cell_type": "markdown",
   "id": "524a5ccf",
   "metadata": {},
   "source": [
    "\n",
    "## Reading files\n",
    "GeoPandas can read file containing a data and a geometry (GeoJSON, Shapefile)."
   ]
  },
  {
   "cell_type": "code",
   "execution_count": null,
   "id": "6eaf67b8",
   "metadata": {},
   "outputs": [],
   "source": [
    "gdf = gpd.read_file(\"src/qc_facilities.geojson\")\n",
    "print(gdf)\n",
    "gdf.plot()"
   ]
  },
  {
   "cell_type": "markdown",
   "id": "8e751719",
   "metadata": {},
   "source": [
    "## Access GeoDataFrame Values\n",
    "Similar to pandas, we can also use iterrows() to iterate rows in a GeoDataFrame"
   ]
  },
  {
   "cell_type": "code",
   "execution_count": null,
   "id": "178c540c",
   "metadata": {},
   "outputs": [],
   "source": [
    "for index, row in gdf.iterrows():\n",
    "    print(row['CF Type'])"
   ]
  },
  {
   "cell_type": "markdown",
   "id": "b0dabd83",
   "metadata": {},
   "source": [
    "\n",
    "## Projections\n",
    "### Identify CRS/Projection\n",
    "Coordinate reference system defines a two-dimensional projected in map relates to real places on earth"
   ]
  },
  {
   "cell_type": "code",
   "execution_count": null,
   "id": "f7e106c6",
   "metadata": {},
   "outputs": [],
   "source": [
    "crs = gdf.crs\n",
    "print(crs)"
   ]
  },
  {
   "cell_type": "markdown",
   "id": "317a7c0a",
   "metadata": {},
   "source": [
    "\n",
    "### Re-projecting\n",
    "To change the representation of locations from coordinate system to another."
   ]
  },
  {
   "cell_type": "code",
   "execution_count": null,
   "id": "b85b99d1",
   "metadata": {},
   "outputs": [],
   "source": [
    "crs_32651 = gdf.to_crs('EPSG:32651')\n",
    "print(crs_32651.crs)"
   ]
  },
  {
   "cell_type": "markdown",
   "id": "eb5eb1c9",
   "metadata": {},
   "source": [
    "\n",
    "## Intersection\n",
    "Intersection in GeoPandas returns geometries that are aligned by both GeoDataFrames."
   ]
  },
  {
   "cell_type": "code",
   "execution_count": null,
   "id": "e766cc67",
   "metadata": {},
   "outputs": [],
   "source": [
    "gdf_2 = gpd.read_file(\"src/qc_muni_bounds.geojson\")\n",
    "gdf_2.plot()\n",
    "intersection = gpd.overlay(gdf, gdf_2, how='intersection')\n",
    "print(intersection)\n",
    "intersection.plot()"
   ]
  },
  {
   "cell_type": "markdown",
   "id": "be1a0af6",
   "metadata": {},
   "source": [
    "\n",
    "## Clipping\n",
    "Clipping in GeoPandas lets you clip a set of vector geometries to another vector object."
   ]
  },
  {
   "cell_type": "code",
   "execution_count": null,
   "id": "090883b3",
   "metadata": {},
   "outputs": [],
   "source": [
    "sample_shp = gpd.read_file(\"src/sample_poly.shp\")\n",
    "sample_shp.plot()\n",
    "hospitals = gdf[gdf[\"CF Type\"] == \"Hospital\"]\n",
    "hospitals.plot()\n",
    "new_hosp = sample_shp.clip(hospitals)\n",
    "print(new_hosp)\n",
    "new_hosp.plot()"
   ]
  },
  {
   "cell_type": "markdown",
   "id": "7ff11718",
   "metadata": {},
   "source": [
    "\n",
    "## Dissolving\n",
    "Dissolving in GeoPandas dissolves geometries and groups it into single geometry feature."
   ]
  },
  {
   "cell_type": "code",
   "execution_count": null,
   "id": "07b84084",
   "metadata": {},
   "outputs": [],
   "source": [
    "dissolved = gdf.dissolve('CF Type')\n",
    "print(dissolved)\n",
    "dissolved.plot()"
   ]
  }
 ],
 "metadata": {},
 "nbformat": 4,
 "nbformat_minor": 5
}
