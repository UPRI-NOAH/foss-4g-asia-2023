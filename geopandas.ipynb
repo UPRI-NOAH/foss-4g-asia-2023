{
 "cells": [
  {
   "cell_type": "markdown",
   "id": "0308e453",
   "metadata": {},
   "source": [
    "\n",
    "# What is GeoPandas?\n",
    "GeoPandas is an open source library used for geospatial data. It extends datatypes used by pandas\n",
    "library for geometric and spatial data.\n",
    "\n",
    "## Import geopandas library"
   ]
  },
  {
   "cell_type": "code",
   "execution_count": null,
   "id": "65e0d6f3",
   "metadata": {},
   "outputs": [],
   "source": [
    "import geopandas as gpd"
   ]
  },
  {
   "cell_type": "markdown",
   "id": "9310a39e",
   "metadata": {},
   "source": [
    "\n",
    "## Reading files\n",
    "GeoPandas can read file containing a data and a geometry (GeoJSON, Shapefile)."
   ]
  },
  {
   "cell_type": "code",
   "execution_count": null,
   "id": "4937db9c",
   "metadata": {},
   "outputs": [],
   "source": [
    "gdf = gpd.read_file(\"src/qc_facilities.geojson\")\n",
    "print(gdf)\n",
    "gdf.plot()"
   ]
  },
  {
   "cell_type": "markdown",
   "id": "99480172",
   "metadata": {},
   "source": [
    "\n",
    "## Projections\n",
    "### Identify CRS/Projection\n",
    "Coordinate reference system defines a two-dimensional projected in map relates to real places on earth"
   ]
  },
  {
   "cell_type": "code",
   "execution_count": null,
   "id": "f94fb89e",
   "metadata": {},
   "outputs": [],
   "source": [
    "crs = gdf.crs\n",
    "print(crs)"
   ]
  },
  {
   "cell_type": "markdown",
   "id": "ee4c3fe1",
   "metadata": {},
   "source": [
    "\n",
    "### Re-projecting\n",
    "To change the representation of locations from coordinate system to another."
   ]
  },
  {
   "cell_type": "code",
   "execution_count": null,
   "id": "e84096a6",
   "metadata": {},
   "outputs": [],
   "source": [
    "crs_32651 = gdf.to_crs('EPSG:32651')\n",
    "print(crs_32651.crs)"
   ]
  },
  {
   "cell_type": "markdown",
   "id": "5e36341c",
   "metadata": {},
   "source": [
    "\n",
    "## Intersection\n",
    "Intersection in GeoPandas returns geometries that are aligned by both GeoDataFrames"
   ]
  },
  {
   "cell_type": "code",
   "execution_count": null,
   "id": "0f67fe69",
   "metadata": {},
   "outputs": [],
   "source": [
    "gdf_2 = gpd.read_file(\"src/qc_muni_bounds.geojson\")\n",
    "intersection = gpd.overlay(gdf, gdf_2, how='intersection')\n",
    "print(intersection)"
   ]
  }
 ],
 "metadata": {},
 "nbformat": 4,
 "nbformat_minor": 5
}
